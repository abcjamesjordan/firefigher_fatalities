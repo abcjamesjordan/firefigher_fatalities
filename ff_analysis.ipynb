{
 "metadata": {
  "language_info": {
   "codemirror_mode": {
    "name": "ipython",
    "version": 3
   },
   "file_extension": ".py",
   "mimetype": "text/x-python",
   "name": "python",
   "nbconvert_exporter": "python",
   "pygments_lexer": "ipython3",
   "version": "3.9.1-final"
  },
  "orig_nbformat": 2,
  "kernelspec": {
   "name": "python3",
   "display_name": "Python 3.9.1 64-bit",
   "metadata": {
    "interpreter": {
     "hash": "2087b2d7718ef77ef1a97e1ea277bfa544d1fa30fabaec813d3ff83fc5409b58"
    }
   }
  }
 },
 "nbformat": 4,
 "nbformat_minor": 2,
 "cells": [
  {
   "source": [
    "# Firefighter Fatalities Investigation\n",
    "\n",
    "This Jupyter Notebook investigates firefighter fatalities from a public dataset provided by the Federal Emergency Management Agency (FEMA). The U.S. Fire Administration tracks and collects information on the causes of on-duty firefighter fatalities that occur in the United States. This dataset contains this collected data which is hosted on the FEMA website. Below is the current link for this dataset as of 09/18/2020.\n",
    "\n",
    "Link: https://apps.usfa.fema.gov/firefighter-fatalities/"
   ],
   "cell_type": "markdown",
   "metadata": {}
  },
  {
   "source": [
    "## Motivation For Investigation\n",
    "\n",
    "My personal motivation for investigating this dataset is because I want to, in the near future, become a volunteer firefighter myself. I find firefighting to be such a rewarding way to give back to the community around me and hope to become a part of this community someday. Thus, I think it would be useful to have some background knowledge regarding firefighting prior to enrolling as a volunteer firefighter. This dataset provides me one way to do this by becoming better equiped to knowing the analysis of firefighters deaths with the hope that one day this knowledge could help prevent a future firefighter death whether it be a fellow firefighter or myself."
   ],
   "cell_type": "markdown",
   "metadata": {}
  },
  {
   "source": [
    "## Introductory Analysis\n",
    "\n",
    "Below analysis on the dataset starts by importing the needed python libraries and dataset into this Jupyter Notebook. This provides a fire glance into the what the dataset contains."
   ],
   "cell_type": "markdown",
   "metadata": {}
  },
  {
   "cell_type": "code",
   "execution_count": 231,
   "metadata": {},
   "outputs": [],
   "source": [
    "import numpy as np\n",
    "import pandas as pd\n",
    "import matplotlib.pyplot as plt\n",
    "import seaborn as sns\n",
    "from datetime import datetime\n",
    "from fastai.tabular.all import *\n",
    "\n",
    "%matplotlib inline"
   ]
  },
  {
   "cell_type": "code",
   "execution_count": 232,
   "metadata": {},
   "outputs": [],
   "source": [
    "df = pd.read_csv('ff_data_2021.csv')\n",
    "df_origianl = df.copy()"
   ]
  },
  {
   "cell_type": "code",
   "execution_count": 233,
   "metadata": {},
   "outputs": [
    {
     "output_type": "execute_result",
     "data": {
      "text/plain": [
       "                                                                                                                                                                                                                                                                                                                                                                                                                                                                                                                                                                                                           Initial summary  \\\n",
       "0                                                                                                                                                                                                                                                                                                                   Firefighter Pollard was driving a rescue vehicle to a wildland fire.  While enroute, he collapsed and was treated by first responders and then airlifted to a hospital.  Firefighter Pollard died the next day on January 1, 2000.  Firefighter Pollard died of a cerebral bleed (stroke/CVA).\\r\\n\\r\\n   \n",
       "1                                                                                     Pump Operator/Inspector Purdy was operating a top-mounted pump panel at the scene of a residential structure fire.  Pump Operator/Inspector Purdy asked his wife, a volunteer paramedic, for a drink.  When she returned to the truck with the drink, she saw him fall from the truck, the victim of a massive heart attack.  Medical aid was provided immediately.  Pump Operator/Inspector Purdy was transported to a local hospital where he was pronounced dead 20 minutes after his arrival.  No autopsy was performed.\\r\\n\\r\\n   \n",
       "2  First Assistant Chief Osadacz was on the scene of a vehicle fire that resulted from the collision of a pickup truck with a tree.  While working on the scene, First Assistant Chief Osadacz was struck in the groin area by a water stream from a 1� -inch hoseline.  First Assistant Chief Osadacz was agitated by this occurrence, left the scene, and returned to his home.  Upon his arrival at home, First Assistant Chief Osadacz complained of indigestion, took some over-the-counter medicine, and laid down to rest.  Within a few moments, First Assistant Chief Osadacz was struck with a fatal heart at...   \n",
       "3                                                                                                                                                                                                                                       Firefighter Streeter responded to a trash and grass fire in the department�s brush truck.  Shortly after exiting the vehicle, Firefighter Streeter collapsed of an apparent heart attack.  CPR was administered immediately by other firefighters, and an ambulance was summoned.  Firefighter Streeter was a charter member of the Ranch Drive Volunteer Fire Department.\\r\\n\\r\\n   \n",
       "4  Firefighter Bankert was participating in fire department sponsored dive training in a rock quarry that contains a private lake used exclusively for recreational diving.  Firefighter Bankert was a member of his department�s search and recovery dive team.  As the class ascended from the third of three dives, the class stopped for a safety and accountability check at a depth of 15 feet.  At the time of the check, Firefighter Bankert was present; however, when the class proceeded to the surface, Firefighter Bankert did not surface.  Other divers went immediately to the bottom of the lake and f...   \n",
       "\n",
       "  First name    Last name Middle name   Age                     Rank  \\\n",
       "0     Robert      Pollard        Dale  64.0              Firefighter   \n",
       "1        Lee        Purdy          A.  57.0  Pump Operator/Inspector   \n",
       "2     Ronald      Osadacz          J.  36.0    First Assistant Chief   \n",
       "3      Allen     Streeter          L.  58.0              Firefighter   \n",
       "4       Gary  Bankert, Sr        Lynn  37.0              Firefighter   \n",
       "\n",
       "  Classification Incident date Date of death       Cause of death  \\\n",
       "0      Volunteer  Dec 31, 1999   Jan 1, 2000  Stress/Overexertion   \n",
       "1      Volunteer   Jan 8, 2000   Jan 8, 2000  Stress/Overexertion   \n",
       "2      Volunteer  Jan 11, 2000  Jan 11, 2000  Stress/Overexertion   \n",
       "3      Volunteer  Jan 11, 2000  Jan 11, 2000  Stress/Overexertion   \n",
       "4      Volunteer  Jan 15, 2000  Jan 15, 2000    Caught or Trapped   \n",
       "\n",
       "            Nature of death  \\\n",
       "0  Cerebrovascular Accident   \n",
       "1              Heart Attack   \n",
       "2              Heart Attack   \n",
       "3              Heart Attack   \n",
       "4                  Drowning   \n",
       "\n",
       "                                             Activity Emergency  \\\n",
       "0                            Riding Vehicle/Apparatus       Yes   \n",
       "1  Advance Hose Lines/Fire Attack (includes Wildland)       Yes   \n",
       "2  Advance Hose Lines/Fire Attack (includes Wildland)       Yes   \n",
       "3  Advance Hose Lines/Fire Attack (includes Wildland)       Yes   \n",
       "4                                               Other        No   \n",
       "\n",
       "            Duty     Property type Memorial fund info  \n",
       "0     Responding  Outdoor Property                NaN  \n",
       "1  On-Scene Fire       Residential                NaN  \n",
       "2     Responding       Street/Road                NaN  \n",
       "3  On-Scene Fire  Outdoor Property                NaN  \n",
       "4       Training               NaN                NaN  "
      ],
      "text/html": "<div>\n<style scoped>\n    .dataframe tbody tr th:only-of-type {\n        vertical-align: middle;\n    }\n\n    .dataframe tbody tr th {\n        vertical-align: top;\n    }\n\n    .dataframe thead th {\n        text-align: right;\n    }\n</style>\n<table border=\"1\" class=\"dataframe\">\n  <thead>\n    <tr style=\"text-align: right;\">\n      <th></th>\n      <th>Initial summary</th>\n      <th>First name</th>\n      <th>Last name</th>\n      <th>Middle name</th>\n      <th>Age</th>\n      <th>Rank</th>\n      <th>Classification</th>\n      <th>Incident date</th>\n      <th>Date of death</th>\n      <th>Cause of death</th>\n      <th>Nature of death</th>\n      <th>Activity</th>\n      <th>Emergency</th>\n      <th>Duty</th>\n      <th>Property type</th>\n      <th>Memorial fund info</th>\n    </tr>\n  </thead>\n  <tbody>\n    <tr>\n      <th>0</th>\n      <td>Firefighter Pollard was driving a rescue vehicle to a wildland fire.  While enroute, he collapsed and was treated by first responders and then airlifted to a hospital.  Firefighter Pollard died the next day on January 1, 2000.  Firefighter Pollard died of a cerebral bleed (stroke/CVA).\\r\\n\\r\\n</td>\n      <td>Robert</td>\n      <td>Pollard</td>\n      <td>Dale</td>\n      <td>64.0</td>\n      <td>Firefighter</td>\n      <td>Volunteer</td>\n      <td>Dec 31, 1999</td>\n      <td>Jan 1, 2000</td>\n      <td>Stress/Overexertion</td>\n      <td>Cerebrovascular Accident</td>\n      <td>Riding Vehicle/Apparatus</td>\n      <td>Yes</td>\n      <td>Responding</td>\n      <td>Outdoor Property</td>\n      <td>NaN</td>\n    </tr>\n    <tr>\n      <th>1</th>\n      <td>Pump Operator/Inspector Purdy was operating a top-mounted pump panel at the scene of a residential structure fire.  Pump Operator/Inspector Purdy asked his wife, a volunteer paramedic, for a drink.  When she returned to the truck with the drink, she saw him fall from the truck, the victim of a massive heart attack.  Medical aid was provided immediately.  Pump Operator/Inspector Purdy was transported to a local hospital where he was pronounced dead 20 minutes after his arrival.  No autopsy was performed.\\r\\n\\r\\n</td>\n      <td>Lee</td>\n      <td>Purdy</td>\n      <td>A.</td>\n      <td>57.0</td>\n      <td>Pump Operator/Inspector</td>\n      <td>Volunteer</td>\n      <td>Jan 8, 2000</td>\n      <td>Jan 8, 2000</td>\n      <td>Stress/Overexertion</td>\n      <td>Heart Attack</td>\n      <td>Advance Hose Lines/Fire Attack (includes Wildland)</td>\n      <td>Yes</td>\n      <td>On-Scene Fire</td>\n      <td>Residential</td>\n      <td>NaN</td>\n    </tr>\n    <tr>\n      <th>2</th>\n      <td>First Assistant Chief Osadacz was on the scene of a vehicle fire that resulted from the collision of a pickup truck with a tree.  While working on the scene, First Assistant Chief Osadacz was struck in the groin area by a water stream from a 1� -inch hoseline.  First Assistant Chief Osadacz was agitated by this occurrence, left the scene, and returned to his home.  Upon his arrival at home, First Assistant Chief Osadacz complained of indigestion, took some over-the-counter medicine, and laid down to rest.  Within a few moments, First Assistant Chief Osadacz was struck with a fatal heart at...</td>\n      <td>Ronald</td>\n      <td>Osadacz</td>\n      <td>J.</td>\n      <td>36.0</td>\n      <td>First Assistant Chief</td>\n      <td>Volunteer</td>\n      <td>Jan 11, 2000</td>\n      <td>Jan 11, 2000</td>\n      <td>Stress/Overexertion</td>\n      <td>Heart Attack</td>\n      <td>Advance Hose Lines/Fire Attack (includes Wildland)</td>\n      <td>Yes</td>\n      <td>Responding</td>\n      <td>Street/Road</td>\n      <td>NaN</td>\n    </tr>\n    <tr>\n      <th>3</th>\n      <td>Firefighter Streeter responded to a trash and grass fire in the department�s brush truck.  Shortly after exiting the vehicle, Firefighter Streeter collapsed of an apparent heart attack.  CPR was administered immediately by other firefighters, and an ambulance was summoned.  Firefighter Streeter was a charter member of the Ranch Drive Volunteer Fire Department.\\r\\n\\r\\n</td>\n      <td>Allen</td>\n      <td>Streeter</td>\n      <td>L.</td>\n      <td>58.0</td>\n      <td>Firefighter</td>\n      <td>Volunteer</td>\n      <td>Jan 11, 2000</td>\n      <td>Jan 11, 2000</td>\n      <td>Stress/Overexertion</td>\n      <td>Heart Attack</td>\n      <td>Advance Hose Lines/Fire Attack (includes Wildland)</td>\n      <td>Yes</td>\n      <td>On-Scene Fire</td>\n      <td>Outdoor Property</td>\n      <td>NaN</td>\n    </tr>\n    <tr>\n      <th>4</th>\n      <td>Firefighter Bankert was participating in fire department sponsored dive training in a rock quarry that contains a private lake used exclusively for recreational diving.  Firefighter Bankert was a member of his department�s search and recovery dive team.  As the class ascended from the third of three dives, the class stopped for a safety and accountability check at a depth of 15 feet.  At the time of the check, Firefighter Bankert was present; however, when the class proceeded to the surface, Firefighter Bankert did not surface.  Other divers went immediately to the bottom of the lake and f...</td>\n      <td>Gary</td>\n      <td>Bankert, Sr</td>\n      <td>Lynn</td>\n      <td>37.0</td>\n      <td>Firefighter</td>\n      <td>Volunteer</td>\n      <td>Jan 15, 2000</td>\n      <td>Jan 15, 2000</td>\n      <td>Caught or Trapped</td>\n      <td>Drowning</td>\n      <td>Other</td>\n      <td>No</td>\n      <td>Training</td>\n      <td>NaN</td>\n      <td>NaN</td>\n    </tr>\n  </tbody>\n</table>\n</div>"
     },
     "metadata": {},
     "execution_count": 233
    }
   ],
   "source": [
    "df.head()"
   ]
  },
  {
   "source": [
    "### Data Cleaning\n",
    "\n",
    "Several steps are taken below to clean the data of unnecessary columns or missing data."
   ],
   "cell_type": "markdown",
   "metadata": {}
  },
  {
   "cell_type": "code",
   "execution_count": 234,
   "metadata": {},
   "outputs": [
    {
     "output_type": "execute_result",
     "data": {
      "text/plain": [
       "  first_name    last_name middle_name   age                     rank  \\\n",
       "0     Robert      Pollard        Dale  64.0              Firefighter   \n",
       "1        Lee        Purdy          A.  57.0  Pump Operator/Inspector   \n",
       "2     Ronald      Osadacz          J.  36.0    First Assistant Chief   \n",
       "3      Allen     Streeter          L.  58.0              Firefighter   \n",
       "4       Gary  Bankert, Sr        Lynn  37.0              Firefighter   \n",
       "\n",
       "  classification incident_date date_of_death       cause_of_death  \\\n",
       "0      Volunteer  Dec 31, 1999   Jan 1, 2000  Stress/Overexertion   \n",
       "1      Volunteer   Jan 8, 2000   Jan 8, 2000  Stress/Overexertion   \n",
       "2      Volunteer  Jan 11, 2000  Jan 11, 2000  Stress/Overexertion   \n",
       "3      Volunteer  Jan 11, 2000  Jan 11, 2000  Stress/Overexertion   \n",
       "4      Volunteer  Jan 15, 2000  Jan 15, 2000    Caught or Trapped   \n",
       "\n",
       "            nature_of_death  \\\n",
       "0  Cerebrovascular Accident   \n",
       "1              Heart Attack   \n",
       "2              Heart Attack   \n",
       "3              Heart Attack   \n",
       "4                  Drowning   \n",
       "\n",
       "                                             activity emergency  \\\n",
       "0                            Riding Vehicle/Apparatus       Yes   \n",
       "1  Advance Hose Lines/Fire Attack (includes Wildland)       Yes   \n",
       "2  Advance Hose Lines/Fire Attack (includes Wildland)       Yes   \n",
       "3  Advance Hose Lines/Fire Attack (includes Wildland)       Yes   \n",
       "4                                               Other        No   \n",
       "\n",
       "            duty     property_type memorial_fund_info  \n",
       "0     Responding  Outdoor Property                NaN  \n",
       "1  On-Scene Fire       Residential                NaN  \n",
       "2     Responding       Street/Road                NaN  \n",
       "3  On-Scene Fire  Outdoor Property                NaN  \n",
       "4       Training               NaN                NaN  "
      ],
      "text/html": "<div>\n<style scoped>\n    .dataframe tbody tr th:only-of-type {\n        vertical-align: middle;\n    }\n\n    .dataframe tbody tr th {\n        vertical-align: top;\n    }\n\n    .dataframe thead th {\n        text-align: right;\n    }\n</style>\n<table border=\"1\" class=\"dataframe\">\n  <thead>\n    <tr style=\"text-align: right;\">\n      <th></th>\n      <th>first_name</th>\n      <th>last_name</th>\n      <th>middle_name</th>\n      <th>age</th>\n      <th>rank</th>\n      <th>classification</th>\n      <th>incident_date</th>\n      <th>date_of_death</th>\n      <th>cause_of_death</th>\n      <th>nature_of_death</th>\n      <th>activity</th>\n      <th>emergency</th>\n      <th>duty</th>\n      <th>property_type</th>\n      <th>memorial_fund_info</th>\n    </tr>\n  </thead>\n  <tbody>\n    <tr>\n      <th>0</th>\n      <td>Robert</td>\n      <td>Pollard</td>\n      <td>Dale</td>\n      <td>64.0</td>\n      <td>Firefighter</td>\n      <td>Volunteer</td>\n      <td>Dec 31, 1999</td>\n      <td>Jan 1, 2000</td>\n      <td>Stress/Overexertion</td>\n      <td>Cerebrovascular Accident</td>\n      <td>Riding Vehicle/Apparatus</td>\n      <td>Yes</td>\n      <td>Responding</td>\n      <td>Outdoor Property</td>\n      <td>NaN</td>\n    </tr>\n    <tr>\n      <th>1</th>\n      <td>Lee</td>\n      <td>Purdy</td>\n      <td>A.</td>\n      <td>57.0</td>\n      <td>Pump Operator/Inspector</td>\n      <td>Volunteer</td>\n      <td>Jan 8, 2000</td>\n      <td>Jan 8, 2000</td>\n      <td>Stress/Overexertion</td>\n      <td>Heart Attack</td>\n      <td>Advance Hose Lines/Fire Attack (includes Wildland)</td>\n      <td>Yes</td>\n      <td>On-Scene Fire</td>\n      <td>Residential</td>\n      <td>NaN</td>\n    </tr>\n    <tr>\n      <th>2</th>\n      <td>Ronald</td>\n      <td>Osadacz</td>\n      <td>J.</td>\n      <td>36.0</td>\n      <td>First Assistant Chief</td>\n      <td>Volunteer</td>\n      <td>Jan 11, 2000</td>\n      <td>Jan 11, 2000</td>\n      <td>Stress/Overexertion</td>\n      <td>Heart Attack</td>\n      <td>Advance Hose Lines/Fire Attack (includes Wildland)</td>\n      <td>Yes</td>\n      <td>Responding</td>\n      <td>Street/Road</td>\n      <td>NaN</td>\n    </tr>\n    <tr>\n      <th>3</th>\n      <td>Allen</td>\n      <td>Streeter</td>\n      <td>L.</td>\n      <td>58.0</td>\n      <td>Firefighter</td>\n      <td>Volunteer</td>\n      <td>Jan 11, 2000</td>\n      <td>Jan 11, 2000</td>\n      <td>Stress/Overexertion</td>\n      <td>Heart Attack</td>\n      <td>Advance Hose Lines/Fire Attack (includes Wildland)</td>\n      <td>Yes</td>\n      <td>On-Scene Fire</td>\n      <td>Outdoor Property</td>\n      <td>NaN</td>\n    </tr>\n    <tr>\n      <th>4</th>\n      <td>Gary</td>\n      <td>Bankert, Sr</td>\n      <td>Lynn</td>\n      <td>37.0</td>\n      <td>Firefighter</td>\n      <td>Volunteer</td>\n      <td>Jan 15, 2000</td>\n      <td>Jan 15, 2000</td>\n      <td>Caught or Trapped</td>\n      <td>Drowning</td>\n      <td>Other</td>\n      <td>No</td>\n      <td>Training</td>\n      <td>NaN</td>\n      <td>NaN</td>\n    </tr>\n  </tbody>\n</table>\n</div>"
     },
     "metadata": {},
     "execution_count": 234
    }
   ],
   "source": [
    "# Drop the Initial Summary Column for now since it full of supplimentary and not needed information regarding the incident.\n",
    "df = df.drop(columns=['Initial summary'])\n",
    "\n",
    "columns = list(df.columns)\n",
    "fixed_cols = []\n",
    "\n",
    "# Format the column names to be lowercase and have a underscore instead of spaces\n",
    "for col in columns:\n",
    "    col = col.lower()\n",
    "    col = col.replace(' ', '_')\n",
    "    fixed_cols.append(col)\n",
    "\n",
    "df.columns = fixed_cols\n",
    "df.head()"
   ]
  },
  {
   "cell_type": "code",
   "execution_count": 235,
   "metadata": {},
   "outputs": [],
   "source": [
    "# Convert the dates to datetime for easy manipulation\n",
    "df['incident_date'] = pd.to_datetime(df['incident_date'])\n",
    "df['date_of_death'] = pd.to_datetime(df['date_of_death'])"
   ]
  },
  {
   "cell_type": "code",
   "execution_count": 236,
   "metadata": {},
   "outputs": [
    {
     "output_type": "execute_result",
     "data": {
      "text/plain": [
       "first_name             546\n",
       "last_name             1948\n",
       "middle_name            535\n",
       "age                     75\n",
       "rank                   290\n",
       "classification           8\n",
       "incident_date         1629\n",
       "date_of_death         1639\n",
       "cause_of_death          13\n",
       "nature_of_death         12\n",
       "activity                23\n",
       "emergency                2\n",
       "duty                     7\n",
       "property_type           11\n",
       "memorial_fund_info     589\n",
       "dtype: int64"
      ]
     },
     "metadata": {},
     "execution_count": 236
    }
   ],
   "source": [
    "# Visually show how many unique values are inside each column\n",
    "df.nunique()"
   ]
  },
  {
   "cell_type": "code",
   "execution_count": 237,
   "metadata": {},
   "outputs": [
    {
     "output_type": "execute_result",
     "data": {
      "text/plain": [
       "True"
      ]
     },
     "metadata": {},
     "execution_count": 237
    }
   ],
   "source": [
    "# Test to see if we have any null / missing values within the dataset\n",
    "df.isnull().values.any()"
   ]
  },
  {
   "cell_type": "code",
   "execution_count": 238,
   "metadata": {},
   "outputs": [
    {
     "output_type": "execute_result",
     "data": {
      "text/plain": [
       "first_name               0\n",
       "last_name                0\n",
       "middle_name            211\n",
       "age                    360\n",
       "rank                     7\n",
       "classification           3\n",
       "incident_date            1\n",
       "date_of_death            0\n",
       "cause_of_death          13\n",
       "nature_of_death          7\n",
       "activity                17\n",
       "emergency                0\n",
       "duty                     6\n",
       "property_type          307\n",
       "memorial_fund_info    1568\n",
       "dtype: int64"
      ]
     },
     "metadata": {},
     "execution_count": 238
    }
   ],
   "source": [
    "# Sum up these null values for each column of the dataset\n",
    "df.isnull().sum()"
   ]
  },
  {
   "cell_type": "code",
   "execution_count": 239,
   "metadata": {},
   "outputs": [],
   "source": [
    "# Fill na values with unknown\n",
    "df['age'].fillna(-99, inplace=True)\n",
    "df['rank'].fillna('unknown', inplace=True)\n",
    "df['classification'].fillna('unknown', inplace=True)\n",
    "df['cause_of_death'].fillna('unknown', inplace=True)\n",
    "df['activity'].fillna('Unknown', inplace=True)\n",
    "df['property_type'].fillna('unknown', inplace=True)\n",
    "\n",
    "# Fill the one na value with an estimate based off of the notes in the data\n",
    "df['incident_date'].fillna(pd.Timestamp('2003-02-03'), inplace=True)"
   ]
  },
  {
   "source": [
    "#### Rank\n",
    "\n",
    "Doing a quick value counts shows over 287 \"unique\" ranks. Let's try to conslidate a few of these categories best we can by combining some ranks together."
   ],
   "cell_type": "markdown",
   "metadata": {}
  },
  {
   "cell_type": "code",
   "execution_count": 240,
   "metadata": {},
   "outputs": [
    {
     "output_type": "execute_result",
     "data": {
      "text/plain": [
       "Firefighter                 1025\n",
       "Lieutenant                   205\n",
       "Captain                      201\n",
       "Fire Chief                   120\n",
       "Firefighter/Paramedic         40\n",
       "Assistant Chief               40\n",
       "Assistant Fire Chief          40\n",
       "Battalion Chief               37\n",
       "Firefighter/EMT               34\n",
       "Chief                         31\n",
       "Pilot                         29\n",
       "Engineer                      22\n",
       "Fire Police Captain           20\n",
       "Deputy Chief                  18\n",
       "Fire Police Officer           16\n",
       "Fire Captain                  13\n",
       "Inmate Firefighter            12\n",
       "Firefighter-EMT               10\n",
       "Deputy Fire Chief              9\n",
       "Fire Marshal                   8\n",
       "Fire Police Lieutenant         8\n",
       "Firefighter II                 8\n",
       "Probationary Firefighter       8\n",
       "Fire Engineer                  8\n",
       "unknown                        7\n",
       "Firefighter 1st Grade          6\n",
       "Fire Apparatus Operator        6\n",
       "Safety Officer                 6\n",
       "Senior Firefighter             5\n",
       "Private                        5\n",
       "Name: rank, dtype: int64"
      ]
     },
     "metadata": {},
     "execution_count": 240
    }
   ],
   "source": [
    "value_count_ranks = df['rank'].value_counts()\n",
    "value_count_ranks[:30]"
   ]
  },
  {
   "cell_type": "code",
   "execution_count": 241,
   "metadata": {},
   "outputs": [
    {
     "output_type": "execute_result",
     "data": {
      "text/plain": [
       "Pump Operator/Paramedic                  1\n",
       "Senior Firefighter/Driver Engineer       1\n",
       "Helitack Superintendent                  1\n",
       "Co-pilot                                 1\n",
       "Firefighter/Helitack Crewmember          1\n",
       "Senior Firefighter/Engineer/Paramedic    1\n",
       "Vice President                           1\n",
       "Firefighter/EMT EMS Captain              1\n",
       "Major/Navigator                          1\n",
       "Firefighter - Technician One             1\n",
       "Assistant Fire Engine Operator           1\n",
       "Fire Police Captain/Chaplain             1\n",
       "Dozer Operator                           1\n",
       "Firefighter & Dept. President            1\n",
       "Fire Coordinator                         1\n",
       "First Captain                            1\n",
       "Firefighter/Trustee                      1\n",
       "Fire Police Officer/Fire Commisioner     1\n",
       "Fire Equipment Operator                  1\n",
       "Firefighter - Chief Driver               1\n",
       "SEAT Pilot                               1\n",
       "Firefighter Cadet                        1\n",
       "Acting Fire Chief                        1\n",
       "Fire Police Chief                        1\n",
       "Forestry Aide 2                          1\n",
       "Firefighter Specialist                   1\n",
       "Senior Engine Boss                       1\n",
       "Correctional Officer II                  1\n",
       "Training Captain                         1\n",
       "First Assistant Fire Chief               1\n",
       "IFR Captain                              1\n",
       "Fire Crew Chief                          1\n",
       "Company Member                           1\n",
       "Captain/Paramedic                        1\n",
       "Chaplain / Deputy Chief                  1\n",
       "Inmate Firefighter Trainee               1\n",
       "Assistant Lieutenant                     1\n",
       "Forestry Officer                         1\n",
       "Assistant District Forester              1\n",
       "Fire Specialist                          1\n",
       "Equipment Operator - Firefighter         1\n",
       "Lance Corporal                           1\n",
       "Rescue Member/Firefighter                1\n",
       "Firefighter Paramedic                    1\n",
       "Lieutenant Colonel/Evaluator Pilot       1\n",
       "Fire Engineer Operator                   1\n",
       "Firefighter/Driver-Operator              1\n",
       "Firefighter/Medical First Responder      1\n",
       "Engineer - Firefighter                   1\n",
       "Administrative District Chief            1\n",
       "Name: rank, dtype: int64"
      ]
     },
     "metadata": {},
     "execution_count": 241
    }
   ],
   "source": [
    "value_count_ranks[-50:]"
   ]
  },
  {
   "cell_type": "code",
   "execution_count": 244,
   "metadata": {
    "tags": []
   },
   "outputs": [
    {
     "output_type": "stream",
     "name": "stdout",
     "text": [
      "There are 285 unique ranks in the dataset prior to combining groups.\nThere are 285 unique ranks in the dataset after combining groups.\n"
     ]
    }
   ],
   "source": [
    "# TO-DO\n",
    "# fix iteration over rank's to perform calculation\n",
    "\n",
    "unique_ranks_prior = len(df['rank'].value_counts())\n",
    "print(f'There are {unique_ranks_prior} unique ranks in the dataset prior to combining groups.')\n",
    "\n",
    "# Switch strings function\n",
    "def switch_str(x):\n",
    "    x = x.split('/')[:]\n",
    "    RANK_1 = x[1]\n",
    "    RANK_2 = x[0]\n",
    "    x = '/'.join([RANK_1, RANK_2])\n",
    "    return x, RANK_1, RANK_2\n",
    "\n",
    "# Pandas implementation\n",
    "df['rank'] = df['rank'].str.lower()\n",
    "df['rank'] = df['rank'].replace(' / ', '/')\n",
    "df['rank'] = df['rank'].replace(' /', '/')\n",
    "df['rank'] = df['rank'].replace('/ ', '/')\n",
    "df['rank'] = df['rank'].replace(' - ', '-')\n",
    "df['rank'] = df['rank'].replace(' -', '-')\n",
    "df['rank'] = df['rank'].replace('- ', '-')\n",
    "df['rank'] = df['rank'].replace('-', '/')\n",
    "df['rank'] = df['rank'].replace('2', 'ii')\n",
    "df['rank'] = df['rank'].replace('3', 'iii')\n",
    "df['rank'] = df['rank'].replace('firefigher', 'firefighter')\n",
    "df['rank'] = df['rank'].replace('(contract)', '')\n",
    "df['rank'] = df['rank'].replace('  ', '')\n",
    "df['rank'] = df['rank'].replace('acting ', '')\n",
    "df['rank'] = df['rank'].replace('fire chief', 'chief')\n",
    "df['rank'] = df['rank'].replace('chief', 'fire chief')\n",
    "df['rank'] = df['rank'].replace('ex/captain', 'captain')\n",
    "if '/' in df['rank']:\n",
    "    RANK_1 = df['rank'].split('/')[:1]\n",
    "    RANK_2 = df['rank'].split('/')[1:2]\n",
    "    print(RANK_1)\n",
    "    print(RANK_2)\n",
    "\n",
    "    if RANK_1[0] > RANK_2[0]:\n",
    "        TEMP = RANK_1\n",
    "        RANK_1 = RANK_2\n",
    "        RANK_2 = TEMP\n",
    "        rank = '/'.join([str(RANK_1), str(RANK_2)])\n",
    "    if RANK_2 == 'firefighter':\n",
    "        print(rank)\n",
    "        TEMP = RANK_1\n",
    "        RANK_1 = RANK_2\n",
    "        RANK_2 = TEMP\n",
    "        rank = '/'.join([str(RANK_2), str(RANK_1)])\n",
    "    if RANK_2 == 'lieutenant':\n",
    "        print(rank)\n",
    "        TEMP = RANK_1\n",
    "        RANK_1 = RANK_2\n",
    "        RANK_2 = TEMP\n",
    "        rank = '/'.join([str(RANK_2), str(RANK_1)])\n",
    "    if RANK_1 == 'firefighter' and RANK_2 != 'emt' and RANK_2 != 'paramedic':\n",
    "        rank = RANK_1\n",
    "df['rank'] = df['rank'].str.title()\n",
    "df['rank'] = df['rank'].replace('Iii', 'III')\n",
    "df['rank'] = df['rank'].replace('Ii', 'II')\n",
    "df['rank'] = df['rank'].replace('Emt', 'EMT')\n",
    "df['rank'] = df['rank'].replace('Co/Pilot', 'Co-Pilot')\n",
    "\n",
    "unique_ranks_post = len(df['rank'].value_counts())\n",
    "\n",
    "print(f'There are {unique_ranks_post} unique ranks in the dataset after combining groups.')"
   ]
  },
  {
   "cell_type": "code",
   "execution_count": 177,
   "metadata": {},
   "outputs": [],
   "source": [
    "\n",
    "# Format the column names to be lowercase and have a underscore instead of spaces\n",
    "for rank in ranks:\n",
    "    rank = rank.lower()\n",
    "    rank = rank.replace(' / ', '/')\n",
    "    rank = rank.replace(' /', '/')\n",
    "    rank = rank.replace('/ ', '/')\n",
    "    rank = rank.replace(' - ', '-')\n",
    "    rank = rank.replace(' -', '-')\n",
    "    rank = rank.replace('- ', '-')\n",
    "    rank = rank.replace('-', '/')\n",
    "    rank = rank.replace('2', 'ii')\n",
    "    rank = rank.replace('3', 'iii')\n",
    "    rank = rank.replace('firefigher', 'firefighter')\n",
    "    rank = rank.replace('(contract)', '')\n",
    "    rank = rank.replace('  ', '')\n",
    "    rank = rank.replace('acting ', '')\n",
    "    rank = rank.replace('fire chief', 'chief')\n",
    "    rank = rank.replace('chief', 'fire chief')\n",
    "    rank = rank.replace('ex/captain', 'captain')\n",
    "    counter = 0\n",
    "    for letter in rank:\n",
    "        if letter == '/':\n",
    "            counter += 1\n",
    "    if counter > 1:\n",
    "        rank = rank.split('/')[:2]\n",
    "        rank = '/'.join(rank)\n",
    "    if counter > 0:\n",
    "        ranks = rank.split('/')[:]\n",
    "        rank_1 = ranks[0]\n",
    "        rank_2 = ranks[1]\n",
    "        # orders ranks uniformly\n",
    "        if rank_1[0] > rank_2[0]:\n",
    "            ranks = [rank_2, rank_1]\n",
    "            temp = rank_1\n",
    "            rank_1 = rank_2\n",
    "            rank_2 = temp\n",
    "            ranks = '/'.join(ranks)\n",
    "            rank = ranks\n",
    "        # keeps firefighter first\n",
    "        if rank_2 == 'firefighter':\n",
    "            ranks = [rank_2, rank_1]\n",
    "            ranks = '/'.join(ranks)\n",
    "            rank = ranks\n",
    "            ranks = rank.split('/')[:]\n",
    "            rank_1 = ranks[0]\n",
    "            rank_2 = ranks[1]\n",
    "        # keeps lieutenant first\n",
    "        if rank_2 == 'lieutenant':\n",
    "            ranks = [rank_2, rank_1]\n",
    "            ranks = '/'.join(ranks)\n",
    "            rank = ranks\n",
    "            ranks = rank.split('/')[:]\n",
    "            rank_1 = ranks[0]\n",
    "            rank_2 = ranks[1]\n",
    "        # combines other firefighter categories into the firefighter category\n",
    "        if (rank_1 == 'firefighter') and (rank_2 != 'emt') and (rank_2 != 'paramedic'):\n",
    "            rank = rank_1\n",
    "    \n",
    "    rank = rank.title()\n",
    "    rank = rank.replace('Iii', 'III')\n",
    "    rank = rank.replace('Ii', 'II')\n",
    "    rank = rank.replace('Emt', 'EMT')\n",
    "    rank = rank.replace('Co/Pilot', 'Co-Pilot')\n",
    "    fixed_ranks.append(rank)\n",
    "    \n",
    "xx = pd.Series(fixed_ranks).value_counts()\n",
    "len(xx)\n",
    "rank = rank.title()\n",
    "rank = rank.replace('Iii', 'III')\n",
    "rank = rank.replace('Ii', 'II')\n",
    "rank = rank.replace('Emt', 'EMT')\n",
    "rank = rank.replace('Co/Pilot', 'Co-Pilot')\n",
    "fixed_ranks.append(rank)\n"
   ]
  },
  {
   "source": [
    "## Understanding Which Firefighters Are At Risk\n",
    "\n",
    "Here several graphs are shown to help visualize which group(s) of firefighters are at risk of workplace fatalities.\n",
    "\n",
    "The first obvious group of firefighters that we can see from the dataset is the group that tragically lost their lives during 9/11. 15% of all firefighter fatalities occured on this day of history. For the sake of understanding the statistics around firefighter fatalities, the group from that day will be excluded from here on out since that horrible day would be considered an anomaly when considering your typically firefighter's career."
   ],
   "cell_type": "markdown",
   "metadata": {}
  },
  {
   "cell_type": "code",
   "execution_count": 178,
   "metadata": {},
   "outputs": [
    {
     "output_type": "stream",
     "name": "stdout",
     "text": [
      "15.0% of firefighter fatalities occured on 9/11.\n"
     ]
    }
   ],
   "source": [
    "# 9/11 only dataset\n",
    "df_911 = df.loc[df['incident_date'] == pd.Timestamp('2001-09-11')]\n",
    "df_911 = df_911.loc[df_911['emergency'].str.lower() == 'yes']\n",
    "\n",
    "# Drop the 9/11 fatalities from the dataset and save a copy off all fatalities for later use\n",
    "df_all = df.copy()\n",
    "df = df.drop(df[(df['incident_date'] == pd.Timestamp('2001-09-11')) * (df['emergency'].str.lower() == 'yes')].index)\n",
    "\n",
    "percent_911 = round(len(df_911) / len(df_all), 2) * 100\n",
    "percent_rest = 100 - percent_911\n",
    "\n",
    "print(f'{percent_911}% of firefighter fatalities occured on 9/11.')"
   ]
  },
  {
   "cell_type": "code",
   "execution_count": 179,
   "metadata": {},
   "outputs": [
    {
     "output_type": "display_data",
     "data": {
      "text/plain": "<Figure size 432x288 with 1 Axes>",
      "image/svg+xml": "<?xml version=\"1.0\" encoding=\"utf-8\" standalone=\"no\"?>\r\n<!DOCTYPE svg PUBLIC \"-//W3C//DTD SVG 1.1//EN\"\r\n  \"http://www.w3.org/Graphics/SVG/1.1/DTD/svg11.dtd\">\r\n<!-- Created with matplotlib (https://matplotlib.org/) -->\r\n<svg height=\"280.74175pt\" version=\"1.1\" viewBox=\"0 0 424.8 280.74175\" width=\"424.8pt\" xmlns=\"http://www.w3.org/2000/svg\" xmlns:xlink=\"http://www.w3.org/1999/xlink\">\r\n <metadata>\r\n  <rdf:RDF xmlns:cc=\"http://creativecommons.org/ns#\" xmlns:dc=\"http://purl.org/dc/elements/1.1/\" xmlns:rdf=\"http://www.w3.org/1999/02/22-rdf-syntax-ns#\">\r\n   <cc:Work>\r\n    <dc:type rdf:resource=\"http://purl.org/dc/dcmitype/StillImage\"/>\r\n    <dc:date>2021-02-09T00:29:33.576960</dc:date>\r\n    <dc:format>image/svg+xml</dc:format>\r\n    <dc:creator>\r\n     <cc:Agent>\r\n      <dc:title>Matplotlib v3.3.4, https://matplotlib.org/</dc:title>\r\n     </cc:Agent>\r\n    </dc:creator>\r\n   </cc:Work>\r\n  </rdf:RDF>\r\n </metadata>\r\n <defs>\r\n  <style type=\"text/css\">*{stroke-linecap:butt;stroke-linejoin:round;}</style>\r\n </defs>\r\n <g id=\"figure_1\">\r\n  <g id=\"patch_1\">\r\n   <path d=\"M 0 280.74175 \r\nL 424.8 280.74175 \r\nL 424.8 0 \r\nL 0 0 \r\nz\r\n\" style=\"fill:none;\"/>\r\n  </g>\r\n  <g id=\"axes_1\">\r\n   <g id=\"patch_2\">\r\n    <path d=\"M 210.371227 47.285604 \r\nC 198.301648 47.285604 186.316656 49.304646 174.913245 53.259005 \r\nC 163.509834 57.213363 152.84784 63.047612 143.369395 70.519815 \r\nC 133.890951 77.992018 125.72891 86.997443 119.221738 97.16265 \r\nC 112.714566 107.327858 107.953469 118.510368 105.135883 130.246464 \r\nC 102.318296 141.982559 101.483711 154.107741 102.666737 166.119202 \r\nC 103.849764 178.130662 107.033819 189.860043 112.086866 200.820948 \r\nC 117.139913 211.781853 123.991127 221.82065 132.3564 230.521049 \r\nC 140.721673 239.221448 150.483754 246.4615 161.237828 251.940973 \r\nC 171.991902 257.420446 183.587235 261.062538 195.54299 262.716219 \r\nC 207.498745 264.369899 219.647344 264.011989 231.485009 261.657329 \r\nC 243.322674 259.30267 254.683483 254.984266 265.096323 248.881194 \r\nC 275.509163 242.778121 284.828083 234.975923 292.666647 225.798143 \r\nC 300.50521 216.620362 306.753547 206.195639 311.152551 194.956266 \r\nC 315.551555 183.716893 318.039568 171.820408 318.513416 159.760134 \r\nC 318.987264 147.699861 317.440305 135.644841 313.93669 124.094975 \r\nC 310.433074 112.545108 305.02191 101.662283 297.927588 91.89779 \r\nL 210.371227 155.51123 \r\nL 210.371227 47.285604 \r\nz\r\n\" style=\"fill:#1f364c;opacity:0.5;stroke:#1f364c;stroke-linejoin:miter;\"/>\r\n   </g>\r\n   <g id=\"patch_3\">\r\n    <path d=\"M 302.840927 82.254815 \r\nC 292.802554 68.438184 279.634832 57.191891 264.417956 49.438508 \r\nC 249.20108 41.685126 232.362844 37.642626 215.284546 37.642629 \r\nL 215.284566 145.868256 \r\nL 302.840927 82.254815 \r\nz\r\n\" style=\"fill:#4c2e2e;opacity:0.5;stroke:#4c2e2e;stroke-linejoin:miter;\"/>\r\n   </g>\r\n   <g id=\"patch_4\">\r\n    <path d=\"M 212.53574 45.121092 \r\nC 200.466161 45.121092 188.481168 47.140134 177.077757 51.094492 \r\nC 165.674346 55.04885 155.012352 60.883099 145.533908 68.355302 \r\nC 136.055463 75.827506 127.893423 84.83293 121.386251 94.998138 \r\nC 114.879078 105.163345 110.117982 116.345855 107.300395 128.081951 \r\nC 104.482808 139.818046 103.648224 151.943229 104.83125 163.954689 \r\nC 106.014276 175.96615 109.198331 187.69553 114.251379 198.656435 \r\nC 119.304426 209.617341 126.15564 219.656138 134.520913 228.356537 \r\nC 142.886186 237.056935 152.648267 244.296987 163.402341 249.77646 \r\nC 174.156415 255.255934 185.751747 258.898026 197.707502 260.551706 \r\nC 209.663257 262.205386 221.811857 261.847476 233.649522 259.492817 \r\nC 245.487187 257.138158 256.847995 252.819754 267.260835 246.716681 \r\nC 277.673675 240.613609 286.992596 232.811411 294.831159 223.63363 \r\nC 302.669723 214.45585 308.91806 204.031126 313.317064 192.791754 \r\nC 317.716068 181.552381 320.20408 169.655895 320.677928 157.595622 \r\nC 321.151776 145.535348 319.604818 133.480329 316.101202 121.930462 \r\nC 312.597587 110.380596 307.186423 99.497771 300.092101 89.733278 \r\nL 212.53574 153.346718 \r\nL 212.53574 45.121092 \r\nz\r\n\" style=\"fill:#66b3ff;\"/>\r\n   </g>\r\n   <g id=\"patch_5\">\r\n    <path d=\"M 305.00544 80.090303 \r\nC 294.967066 66.273671 281.799345 55.027378 266.582469 47.273996 \r\nC 251.365592 39.520613 234.527356 35.478114 217.449058 35.478117 \r\nL 217.449079 143.703743 \r\nL 305.00544 80.090303 \r\nz\r\n\" style=\"fill:#ff9999;\"/>\r\n   </g>\r\n   <g id=\"matplotlib.axis_1\"/>\r\n   <g id=\"matplotlib.axis_2\"/>\r\n   <g id=\"text_1\">\r\n    <!-- 85.0% -->\r\n    <g transform=\"translate(167.172107 213.963938)scale(0.1 -0.1)\">\r\n     <defs>\r\n      <path d=\"M 31.78125 34.625 \r\nQ 24.75 34.625 20.71875 30.859375 \r\nQ 16.703125 27.09375 16.703125 20.515625 \r\nQ 16.703125 13.921875 20.71875 10.15625 \r\nQ 24.75 6.390625 31.78125 6.390625 \r\nQ 38.8125 6.390625 42.859375 10.171875 \r\nQ 46.921875 13.96875 46.921875 20.515625 \r\nQ 46.921875 27.09375 42.890625 30.859375 \r\nQ 38.875 34.625 31.78125 34.625 \r\nz\r\nM 21.921875 38.8125 \r\nQ 15.578125 40.375 12.03125 44.71875 \r\nQ 8.5 49.078125 8.5 55.328125 \r\nQ 8.5 64.0625 14.71875 69.140625 \r\nQ 20.953125 74.21875 31.78125 74.21875 \r\nQ 42.671875 74.21875 48.875 69.140625 \r\nQ 55.078125 64.0625 55.078125 55.328125 \r\nQ 55.078125 49.078125 51.53125 44.71875 \r\nQ 48 40.375 41.703125 38.8125 \r\nQ 48.828125 37.15625 52.796875 32.3125 \r\nQ 56.78125 27.484375 56.78125 20.515625 \r\nQ 56.78125 9.90625 50.3125 4.234375 \r\nQ 43.84375 -1.421875 31.78125 -1.421875 \r\nQ 19.734375 -1.421875 13.25 4.234375 \r\nQ 6.78125 9.90625 6.78125 20.515625 \r\nQ 6.78125 27.484375 10.78125 32.3125 \r\nQ 14.796875 37.15625 21.921875 38.8125 \r\nz\r\nM 18.3125 54.390625 \r\nQ 18.3125 48.734375 21.84375 45.5625 \r\nQ 25.390625 42.390625 31.78125 42.390625 \r\nQ 38.140625 42.390625 41.71875 45.5625 \r\nQ 45.3125 48.734375 45.3125 54.390625 \r\nQ 45.3125 60.0625 41.71875 63.234375 \r\nQ 38.140625 66.40625 31.78125 66.40625 \r\nQ 25.390625 66.40625 21.84375 63.234375 \r\nQ 18.3125 60.0625 18.3125 54.390625 \r\nz\r\n\" id=\"DejaVuSans-56\"/>\r\n      <path d=\"M 10.796875 72.90625 \r\nL 49.515625 72.90625 \r\nL 49.515625 64.59375 \r\nL 19.828125 64.59375 \r\nL 19.828125 46.734375 \r\nQ 21.96875 47.46875 24.109375 47.828125 \r\nQ 26.265625 48.1875 28.421875 48.1875 \r\nQ 40.625 48.1875 47.75 41.5 \r\nQ 54.890625 34.8125 54.890625 23.390625 \r\nQ 54.890625 11.625 47.5625 5.09375 \r\nQ 40.234375 -1.421875 26.90625 -1.421875 \r\nQ 22.3125 -1.421875 17.546875 -0.640625 \r\nQ 12.796875 0.140625 7.71875 1.703125 \r\nL 7.71875 11.625 \r\nQ 12.109375 9.234375 16.796875 8.0625 \r\nQ 21.484375 6.890625 26.703125 6.890625 \r\nQ 35.15625 6.890625 40.078125 11.328125 \r\nQ 45.015625 15.765625 45.015625 23.390625 \r\nQ 45.015625 31 40.078125 35.4375 \r\nQ 35.15625 39.890625 26.703125 39.890625 \r\nQ 22.75 39.890625 18.8125 39.015625 \r\nQ 14.890625 38.140625 10.796875 36.28125 \r\nz\r\n\" id=\"DejaVuSans-53\"/>\r\n      <path d=\"M 10.6875 12.40625 \r\nL 21 12.40625 \r\nL 21 0 \r\nL 10.6875 0 \r\nz\r\n\" id=\"DejaVuSans-46\"/>\r\n      <path d=\"M 31.78125 66.40625 \r\nQ 24.171875 66.40625 20.328125 58.90625 \r\nQ 16.5 51.421875 16.5 36.375 \r\nQ 16.5 21.390625 20.328125 13.890625 \r\nQ 24.171875 6.390625 31.78125 6.390625 \r\nQ 39.453125 6.390625 43.28125 13.890625 \r\nQ 47.125 21.390625 47.125 36.375 \r\nQ 47.125 51.421875 43.28125 58.90625 \r\nQ 39.453125 66.40625 31.78125 66.40625 \r\nz\r\nM 31.78125 74.21875 \r\nQ 44.046875 74.21875 50.515625 64.515625 \r\nQ 56.984375 54.828125 56.984375 36.375 \r\nQ 56.984375 17.96875 50.515625 8.265625 \r\nQ 44.046875 -1.421875 31.78125 -1.421875 \r\nQ 19.53125 -1.421875 13.0625 8.265625 \r\nQ 6.59375 17.96875 6.59375 36.375 \r\nQ 6.59375 54.828125 13.0625 64.515625 \r\nQ 19.53125 74.21875 31.78125 74.21875 \r\nz\r\n\" id=\"DejaVuSans-48\"/>\r\n      <path d=\"M 72.703125 32.078125 \r\nQ 68.453125 32.078125 66.03125 28.46875 \r\nQ 63.625 24.859375 63.625 18.40625 \r\nQ 63.625 12.0625 66.03125 8.421875 \r\nQ 68.453125 4.78125 72.703125 4.78125 \r\nQ 76.859375 4.78125 79.265625 8.421875 \r\nQ 81.6875 12.0625 81.6875 18.40625 \r\nQ 81.6875 24.8125 79.265625 28.4375 \r\nQ 76.859375 32.078125 72.703125 32.078125 \r\nz\r\nM 72.703125 38.28125 \r\nQ 80.421875 38.28125 84.953125 32.90625 \r\nQ 89.5 27.546875 89.5 18.40625 \r\nQ 89.5 9.28125 84.9375 3.921875 \r\nQ 80.375 -1.421875 72.703125 -1.421875 \r\nQ 64.890625 -1.421875 60.34375 3.921875 \r\nQ 55.8125 9.28125 55.8125 18.40625 \r\nQ 55.8125 27.59375 60.375 32.9375 \r\nQ 64.9375 38.28125 72.703125 38.28125 \r\nz\r\nM 22.3125 68.015625 \r\nQ 18.109375 68.015625 15.6875 64.375 \r\nQ 13.28125 60.75 13.28125 54.390625 \r\nQ 13.28125 47.953125 15.671875 44.328125 \r\nQ 18.0625 40.71875 22.3125 40.71875 \r\nQ 26.5625 40.71875 28.96875 44.328125 \r\nQ 31.390625 47.953125 31.390625 54.390625 \r\nQ 31.390625 60.6875 28.953125 64.34375 \r\nQ 26.515625 68.015625 22.3125 68.015625 \r\nz\r\nM 66.40625 74.21875 \r\nL 74.21875 74.21875 \r\nL 28.609375 -1.421875 \r\nL 20.796875 -1.421875 \r\nz\r\nM 22.3125 74.21875 \r\nQ 30.03125 74.21875 34.609375 68.875 \r\nQ 39.203125 63.53125 39.203125 54.390625 \r\nQ 39.203125 45.171875 34.640625 39.84375 \r\nQ 30.078125 34.515625 22.3125 34.515625 \r\nQ 14.546875 34.515625 10.03125 39.859375 \r\nQ 5.515625 45.21875 5.515625 54.390625 \r\nQ 5.515625 63.484375 10.046875 68.84375 \r\nQ 14.59375 74.21875 22.3125 74.21875 \r\nz\r\n\" id=\"DejaVuSans-37\"/>\r\n     </defs>\r\n     <use xlink:href=\"#DejaVuSans-56\"/>\r\n     <use x=\"63.623047\" xlink:href=\"#DejaVuSans-53\"/>\r\n     <use x=\"127.246094\" xlink:href=\"#DejaVuSans-46\"/>\r\n     <use x=\"159.033203\" xlink:href=\"#DejaVuSans-48\"/>\r\n     <use x=\"222.65625\" xlink:href=\"#DejaVuSans-37\"/>\r\n    </g>\r\n   </g>\r\n   <g id=\"text_2\">\r\n    <!-- 9/11/2001 -->\r\n    <g transform=\"translate(271.495807 40.390396)scale(0.1 -0.1)\">\r\n     <defs>\r\n      <path d=\"M 10.984375 1.515625 \r\nL 10.984375 10.5 \r\nQ 14.703125 8.734375 18.5 7.8125 \r\nQ 22.3125 6.890625 25.984375 6.890625 \r\nQ 35.75 6.890625 40.890625 13.453125 \r\nQ 46.046875 20.015625 46.78125 33.40625 \r\nQ 43.953125 29.203125 39.59375 26.953125 \r\nQ 35.25 24.703125 29.984375 24.703125 \r\nQ 19.046875 24.703125 12.671875 31.3125 \r\nQ 6.296875 37.9375 6.296875 49.421875 \r\nQ 6.296875 60.640625 12.9375 67.421875 \r\nQ 19.578125 74.21875 30.609375 74.21875 \r\nQ 43.265625 74.21875 49.921875 64.515625 \r\nQ 56.59375 54.828125 56.59375 36.375 \r\nQ 56.59375 19.140625 48.40625 8.859375 \r\nQ 40.234375 -1.421875 26.421875 -1.421875 \r\nQ 22.703125 -1.421875 18.890625 -0.6875 \r\nQ 15.09375 0.046875 10.984375 1.515625 \r\nz\r\nM 30.609375 32.421875 \r\nQ 37.25 32.421875 41.125 36.953125 \r\nQ 45.015625 41.5 45.015625 49.421875 \r\nQ 45.015625 57.28125 41.125 61.84375 \r\nQ 37.25 66.40625 30.609375 66.40625 \r\nQ 23.96875 66.40625 20.09375 61.84375 \r\nQ 16.21875 57.28125 16.21875 49.421875 \r\nQ 16.21875 41.5 20.09375 36.953125 \r\nQ 23.96875 32.421875 30.609375 32.421875 \r\nz\r\n\" id=\"DejaVuSans-57\"/>\r\n      <path d=\"M 25.390625 72.90625 \r\nL 33.6875 72.90625 \r\nL 8.296875 -9.28125 \r\nL 0 -9.28125 \r\nz\r\n\" id=\"DejaVuSans-47\"/>\r\n      <path d=\"M 12.40625 8.296875 \r\nL 28.515625 8.296875 \r\nL 28.515625 63.921875 \r\nL 10.984375 60.40625 \r\nL 10.984375 69.390625 \r\nL 28.421875 72.90625 \r\nL 38.28125 72.90625 \r\nL 38.28125 8.296875 \r\nL 54.390625 8.296875 \r\nL 54.390625 0 \r\nL 12.40625 0 \r\nz\r\n\" id=\"DejaVuSans-49\"/>\r\n      <path d=\"M 19.1875 8.296875 \r\nL 53.609375 8.296875 \r\nL 53.609375 0 \r\nL 7.328125 0 \r\nL 7.328125 8.296875 \r\nQ 12.9375 14.109375 22.625 23.890625 \r\nQ 32.328125 33.6875 34.8125 36.53125 \r\nQ 39.546875 41.84375 41.421875 45.53125 \r\nQ 43.3125 49.21875 43.3125 52.78125 \r\nQ 43.3125 58.59375 39.234375 62.25 \r\nQ 35.15625 65.921875 28.609375 65.921875 \r\nQ 23.96875 65.921875 18.8125 64.3125 \r\nQ 13.671875 62.703125 7.8125 59.421875 \r\nL 7.8125 69.390625 \r\nQ 13.765625 71.78125 18.9375 73 \r\nQ 24.125 74.21875 28.421875 74.21875 \r\nQ 39.75 74.21875 46.484375 68.546875 \r\nQ 53.21875 62.890625 53.21875 53.421875 \r\nQ 53.21875 48.921875 51.53125 44.890625 \r\nQ 49.859375 40.875 45.40625 35.40625 \r\nQ 44.1875 33.984375 37.640625 27.21875 \r\nQ 31.109375 20.453125 19.1875 8.296875 \r\nz\r\n\" id=\"DejaVuSans-50\"/>\r\n     </defs>\r\n     <use xlink:href=\"#DejaVuSans-57\"/>\r\n     <use x=\"63.623047\" xlink:href=\"#DejaVuSans-47\"/>\r\n     <use x=\"97.314453\" xlink:href=\"#DejaVuSans-49\"/>\r\n     <use x=\"160.9375\" xlink:href=\"#DejaVuSans-49\"/>\r\n     <use x=\"224.560547\" xlink:href=\"#DejaVuSans-47\"/>\r\n     <use x=\"258.251953\" xlink:href=\"#DejaVuSans-50\"/>\r\n     <use x=\"321.875\" xlink:href=\"#DejaVuSans-48\"/>\r\n     <use x=\"385.498047\" xlink:href=\"#DejaVuSans-48\"/>\r\n     <use x=\"449.121094\" xlink:href=\"#DejaVuSans-49\"/>\r\n    </g>\r\n   </g>\r\n   <g id=\"text_3\">\r\n    <!-- 15.0% -->\r\n    <g transform=\"translate(231.045519 88.60527)scale(0.1 -0.1)\">\r\n     <use xlink:href=\"#DejaVuSans-49\"/>\r\n     <use x=\"63.623047\" xlink:href=\"#DejaVuSans-53\"/>\r\n     <use x=\"127.246094\" xlink:href=\"#DejaVuSans-46\"/>\r\n     <use x=\"159.033203\" xlink:href=\"#DejaVuSans-48\"/>\r\n     <use x=\"222.65625\" xlink:href=\"#DejaVuSans-37\"/>\r\n    </g>\r\n   </g>\r\n   <g id=\"text_4\">\r\n    <!-- Fatalities of 9/11 -->\r\n    <g transform=\"translate(143.97975 18.14175)scale(0.144 -0.144)\">\r\n     <defs>\r\n      <path d=\"M 9.1875 72.90625 \r\nL 59.90625 72.90625 \r\nL 59.90625 58.6875 \r\nL 27.984375 58.6875 \r\nL 27.984375 45.125 \r\nL 58.015625 45.125 \r\nL 58.015625 30.90625 \r\nL 27.984375 30.90625 \r\nL 27.984375 0 \r\nL 9.1875 0 \r\nz\r\n\" id=\"DejaVuSans-Bold-70\"/>\r\n      <path d=\"M 32.90625 24.609375 \r\nQ 27.4375 24.609375 24.671875 22.75 \r\nQ 21.921875 20.90625 21.921875 17.28125 \r\nQ 21.921875 13.96875 24.140625 12.078125 \r\nQ 26.375 10.203125 30.328125 10.203125 \r\nQ 35.25 10.203125 38.625 13.734375 \r\nQ 42 17.28125 42 22.609375 \r\nL 42 24.609375 \r\nz\r\nM 59.625 31.203125 \r\nL 59.625 0 \r\nL 42 0 \r\nL 42 8.109375 \r\nQ 38.484375 3.125 34.078125 0.84375 \r\nQ 29.6875 -1.421875 23.390625 -1.421875 \r\nQ 14.890625 -1.421875 9.59375 3.53125 \r\nQ 4.296875 8.5 4.296875 16.40625 \r\nQ 4.296875 26.03125 10.90625 30.515625 \r\nQ 17.53125 35.015625 31.6875 35.015625 \r\nL 42 35.015625 \r\nL 42 36.375 \r\nQ 42 40.53125 38.71875 42.453125 \r\nQ 35.453125 44.390625 28.515625 44.390625 \r\nQ 22.90625 44.390625 18.0625 43.265625 \r\nQ 13.234375 42.140625 9.078125 39.890625 \r\nL 9.078125 53.21875 \r\nQ 14.703125 54.59375 20.359375 55.296875 \r\nQ 26.03125 56 31.6875 56 \r\nQ 46.484375 56 53.046875 50.171875 \r\nQ 59.625 44.34375 59.625 31.203125 \r\nz\r\n\" id=\"DejaVuSans-Bold-97\"/>\r\n      <path d=\"M 27.484375 70.21875 \r\nL 27.484375 54.6875 \r\nL 45.515625 54.6875 \r\nL 45.515625 42.1875 \r\nL 27.484375 42.1875 \r\nL 27.484375 19 \r\nQ 27.484375 15.1875 29 13.84375 \r\nQ 30.515625 12.5 35.015625 12.5 \r\nL 44 12.5 \r\nL 44 0 \r\nL 29 0 \r\nQ 18.65625 0 14.328125 4.3125 \r\nQ 10.015625 8.640625 10.015625 19 \r\nL 10.015625 42.1875 \r\nL 1.3125 42.1875 \r\nL 1.3125 54.6875 \r\nL 10.015625 54.6875 \r\nL 10.015625 70.21875 \r\nz\r\n\" id=\"DejaVuSans-Bold-116\"/>\r\n      <path d=\"M 8.40625 75.984375 \r\nL 25.875 75.984375 \r\nL 25.875 0 \r\nL 8.40625 0 \r\nz\r\n\" id=\"DejaVuSans-Bold-108\"/>\r\n      <path d=\"M 8.40625 54.6875 \r\nL 25.875 54.6875 \r\nL 25.875 0 \r\nL 8.40625 0 \r\nz\r\nM 8.40625 75.984375 \r\nL 25.875 75.984375 \r\nL 25.875 61.71875 \r\nL 8.40625 61.71875 \r\nz\r\n\" id=\"DejaVuSans-Bold-105\"/>\r\n      <path d=\"M 62.984375 27.484375 \r\nL 62.984375 22.515625 \r\nL 22.125 22.515625 \r\nQ 22.75 16.359375 26.5625 13.28125 \r\nQ 30.375 10.203125 37.203125 10.203125 \r\nQ 42.71875 10.203125 48.5 11.84375 \r\nQ 54.296875 13.484375 60.40625 16.796875 \r\nL 60.40625 3.328125 \r\nQ 54.203125 0.984375 48 -0.21875 \r\nQ 41.796875 -1.421875 35.59375 -1.421875 \r\nQ 20.75 -1.421875 12.515625 6.125 \r\nQ 4.296875 13.671875 4.296875 27.296875 \r\nQ 4.296875 40.671875 12.375 48.328125 \r\nQ 20.453125 56 34.625 56 \r\nQ 47.515625 56 55.25 48.234375 \r\nQ 62.984375 40.484375 62.984375 27.484375 \r\nz\r\nM 45.015625 33.296875 \r\nQ 45.015625 38.28125 42.109375 41.328125 \r\nQ 39.203125 44.390625 34.515625 44.390625 \r\nQ 29.4375 44.390625 26.265625 41.53125 \r\nQ 23.09375 38.671875 22.3125 33.296875 \r\nz\r\n\" id=\"DejaVuSans-Bold-101\"/>\r\n      <path d=\"M 51.125 52.984375 \r\nL 51.125 39.703125 \r\nQ 45.515625 42.046875 40.28125 43.21875 \r\nQ 35.0625 44.390625 30.421875 44.390625 \r\nQ 25.4375 44.390625 23.015625 43.140625 \r\nQ 20.609375 41.890625 20.609375 39.3125 \r\nQ 20.609375 37.203125 22.4375 36.078125 \r\nQ 24.265625 34.96875 29 34.421875 \r\nL 32.078125 33.984375 \r\nQ 45.515625 32.28125 50.140625 28.375 \r\nQ 54.78125 24.46875 54.78125 16.109375 \r\nQ 54.78125 7.375 48.328125 2.96875 \r\nQ 41.890625 -1.421875 29.109375 -1.421875 \r\nQ 23.6875 -1.421875 17.890625 -0.5625 \r\nQ 12.109375 0.296875 6 2 \r\nL 6 15.28125 \r\nQ 11.234375 12.75 16.71875 11.46875 \r\nQ 22.21875 10.203125 27.875 10.203125 \r\nQ 33.015625 10.203125 35.59375 11.609375 \r\nQ 38.1875 13.03125 38.1875 15.828125 \r\nQ 38.1875 18.171875 36.40625 19.3125 \r\nQ 34.625 20.453125 29.296875 21.09375 \r\nL 26.21875 21.484375 \r\nQ 14.546875 22.953125 9.859375 26.90625 \r\nQ 5.171875 30.859375 5.171875 38.921875 \r\nQ 5.171875 47.609375 11.125 51.796875 \r\nQ 17.09375 56 29.390625 56 \r\nQ 34.234375 56 39.546875 55.265625 \r\nQ 44.875 54.546875 51.125 52.984375 \r\nz\r\n\" id=\"DejaVuSans-Bold-115\"/>\r\n      <path id=\"DejaVuSans-Bold-32\"/>\r\n      <path d=\"M 34.421875 43.5 \r\nQ 28.609375 43.5 25.5625 39.328125 \r\nQ 22.515625 35.15625 22.515625 27.296875 \r\nQ 22.515625 19.4375 25.5625 15.25 \r\nQ 28.609375 11.078125 34.421875 11.078125 \r\nQ 40.140625 11.078125 43.15625 15.25 \r\nQ 46.1875 19.4375 46.1875 27.296875 \r\nQ 46.1875 35.15625 43.15625 39.328125 \r\nQ 40.140625 43.5 34.421875 43.5 \r\nz\r\nM 34.421875 56 \r\nQ 48.53125 56 56.46875 48.375 \r\nQ 64.40625 40.765625 64.40625 27.296875 \r\nQ 64.40625 13.8125 56.46875 6.1875 \r\nQ 48.53125 -1.421875 34.421875 -1.421875 \r\nQ 20.265625 -1.421875 12.28125 6.1875 \r\nQ 4.296875 13.8125 4.296875 27.296875 \r\nQ 4.296875 40.765625 12.28125 48.375 \r\nQ 20.265625 56 34.421875 56 \r\nz\r\n\" id=\"DejaVuSans-Bold-111\"/>\r\n      <path d=\"M 44.390625 75.984375 \r\nL 44.390625 64.5 \r\nL 34.71875 64.5 \r\nQ 31 64.5 29.53125 63.15625 \r\nQ 28.078125 61.8125 28.078125 58.5 \r\nL 28.078125 54.6875 \r\nL 43.015625 54.6875 \r\nL 43.015625 42.1875 \r\nL 28.078125 42.1875 \r\nL 28.078125 0 \r\nL 10.59375 0 \r\nL 10.59375 42.1875 \r\nL 1.90625 42.1875 \r\nL 1.90625 54.6875 \r\nL 10.59375 54.6875 \r\nL 10.59375 58.5 \r\nQ 10.59375 67.4375 15.578125 71.703125 \r\nQ 20.5625 75.984375 31 75.984375 \r\nz\r\n\" id=\"DejaVuSans-Bold-102\"/>\r\n      <path d=\"M 10.015625 1.609375 \r\nL 10.015625 15.09375 \r\nQ 14.5 12.984375 18.59375 11.9375 \r\nQ 22.703125 10.890625 26.703125 10.890625 \r\nQ 35.109375 10.890625 39.796875 15.546875 \r\nQ 44.484375 20.21875 45.3125 29.390625 \r\nQ 42 26.953125 38.234375 25.734375 \r\nQ 34.46875 24.515625 30.078125 24.515625 \r\nQ 18.890625 24.515625 12.03125 31.03125 \r\nQ 5.171875 37.546875 5.171875 48.1875 \r\nQ 5.171875 59.96875 12.8125 67.046875 \r\nQ 20.453125 74.125 33.296875 74.125 \r\nQ 47.5625 74.125 55.375 64.5 \r\nQ 63.1875 54.890625 63.1875 37.3125 \r\nQ 63.1875 19.234375 54.046875 8.90625 \r\nQ 44.921875 -1.421875 29 -1.421875 \r\nQ 23.875 -1.421875 19.1875 -0.65625 \r\nQ 14.5 0.09375 10.015625 1.609375 \r\nz\r\nM 33.203125 36.71875 \r\nQ 38.140625 36.71875 40.625 39.90625 \r\nQ 43.109375 43.109375 43.109375 49.515625 \r\nQ 43.109375 55.859375 40.625 59.078125 \r\nQ 38.140625 62.3125 33.203125 62.3125 \r\nQ 28.265625 62.3125 25.78125 59.078125 \r\nQ 23.296875 55.859375 23.296875 49.515625 \r\nQ 23.296875 43.109375 25.78125 39.90625 \r\nQ 28.265625 36.71875 33.203125 36.71875 \r\nz\r\n\" id=\"DejaVuSans-Bold-57\"/>\r\n      <path d=\"M 25.6875 72.90625 \r\nL 36.53125 72.90625 \r\nL 10.796875 -9.28125 \r\nL 0 -9.28125 \r\nz\r\n\" id=\"DejaVuSans-Bold-47\"/>\r\n      <path d=\"M 11.71875 12.984375 \r\nL 28.328125 12.984375 \r\nL 28.328125 60.109375 \r\nL 11.28125 56.59375 \r\nL 11.28125 69.390625 \r\nL 28.21875 72.90625 \r\nL 46.09375 72.90625 \r\nL 46.09375 12.984375 \r\nL 62.703125 12.984375 \r\nL 62.703125 0 \r\nL 11.71875 0 \r\nz\r\n\" id=\"DejaVuSans-Bold-49\"/>\r\n     </defs>\r\n     <use xlink:href=\"#DejaVuSans-Bold-70\"/>\r\n     <use x=\"62.435547\" xlink:href=\"#DejaVuSans-Bold-97\"/>\r\n     <use x=\"129.916016\" xlink:href=\"#DejaVuSans-Bold-116\"/>\r\n     <use x=\"177.71875\" xlink:href=\"#DejaVuSans-Bold-97\"/>\r\n     <use x=\"245.199219\" xlink:href=\"#DejaVuSans-Bold-108\"/>\r\n     <use x=\"279.476562\" xlink:href=\"#DejaVuSans-Bold-105\"/>\r\n     <use x=\"313.753906\" xlink:href=\"#DejaVuSans-Bold-116\"/>\r\n     <use x=\"361.556641\" xlink:href=\"#DejaVuSans-Bold-105\"/>\r\n     <use x=\"395.833984\" xlink:href=\"#DejaVuSans-Bold-101\"/>\r\n     <use x=\"463.65625\" xlink:href=\"#DejaVuSans-Bold-115\"/>\r\n     <use x=\"523.177734\" xlink:href=\"#DejaVuSans-Bold-32\"/>\r\n     <use x=\"557.992188\" xlink:href=\"#DejaVuSans-Bold-111\"/>\r\n     <use x=\"626.693359\" xlink:href=\"#DejaVuSans-Bold-102\"/>\r\n     <use x=\"670.199219\" xlink:href=\"#DejaVuSans-Bold-32\"/>\r\n     <use x=\"705.013672\" xlink:href=\"#DejaVuSans-Bold-57\"/>\r\n     <use x=\"774.59375\" xlink:href=\"#DejaVuSans-Bold-47\"/>\r\n     <use x=\"811.117188\" xlink:href=\"#DejaVuSans-Bold-49\"/>\r\n     <use x=\"880.697266\" xlink:href=\"#DejaVuSans-Bold-49\"/>\r\n    </g>\r\n   </g>\r\n  </g>\r\n </g>\r\n</svg>\r\n",
      "image/png": "[encoded data removed]"
     },
     "metadata": {}
    }
   ],
   "source": [
    "labels = ['', '9/11/2001']\n",
    "sizes = [percent_rest, percent_911]\n",
    "\n",
    "explode = (0, 0.1)\n",
    "colors = ['#66b3ff','#ff9999']\n",
    "\n",
    "fig1, ax1 = plt.subplots()\n",
    "ax1.pie(sizes, explode=explode, labels=labels, autopct='%1.1f%%',\n",
    "        shadow=True, startangle=90, colors=colors)\n",
    "\n",
    "# Equal aspect ratio ensures that pie is drawn as a circle\n",
    "ax1.axis('equal')\n",
    "ax1.set_title('Fatalities of 9/11', fontweight='bold', size='x-large')\n",
    "\n",
    "plt.tight_layout()\n",
    "plt.show()"
   ]
  },
  {
   "cell_type": "code",
   "execution_count": 180,
   "metadata": {},
   "outputs": [
    {
     "output_type": "stream",
     "name": "stdout",
     "text": [
      "Number of categorial columns:  9\nNumber of continous columns:  3\n"
     ]
    }
   ],
   "source": [
    "cat_names = ['rank', 'classification', 'cause_of_death', 'nature_of_death', 'activity', 'emergency', 'duty', 'property_type', 'memorial_fund_info']\n",
    "cont_names = ['age', 'incident_date', 'date_of_death']\n",
    "\n",
    "print('Number of categorial columns: ', len(cat_names))\n",
    "print('Number of continous columns: ', len(cont_names))"
   ]
  },
  {
   "source": [
    "## To summarize thus far:\n",
    "\n",
    "The dataset started with 2,355 firefighter fatalities with 343 of those occuring from the 9/11 incident. These have been excluded from the data leaving us with 2012 fatalities, which is where the remaining analysis will focus. Within the remaining data we potentially have 9 useful categorial columns and 3 useful continous columns (we will assume the date is a contious relationship).\n",
    "\n",
    "### Categorial columns\n",
    "\n",
    "Here we can investigate the categories visually to attempt to get a visual insight to any fatality trends.\n",
    "\n",
    "#### Rank\n",
    "\n",
    "Doing a quick value counts shows over 287 \"unique\" ranks. Let's try to conslidate a few of these categories best we can by combining some ranks together."
   ],
   "cell_type": "markdown",
   "metadata": {}
  },
  {
   "cell_type": "code",
   "execution_count": null,
   "metadata": {},
   "outputs": [],
   "source": []
  }
 ]
}